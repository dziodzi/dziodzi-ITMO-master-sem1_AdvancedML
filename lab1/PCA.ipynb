{
 "cells": [
  {
   "cell_type": "code",
   "execution_count": null,
   "metadata": {
    "id": "lSnJ9zsTh8Ey"
   },
   "outputs": [],
   "source": [
    "import numpy as np\n",
    "import pandas as pd\n",
    "from sklearn.decomposition import PCA\n",
    "from sklearn.preprocessing import StandardScaler\n",
    "import matplotlib.pyplot as plt"
   ]
  },
  {
   "cell_type": "code",
   "execution_count": null,
   "metadata": {
    "colab": {
     "base_uri": "https://localhost:8080/"
    },
    "executionInfo": {
     "elapsed": 2244,
     "status": "ok",
     "timestamp": 1734962291087,
     "user": {
      "displayName": "Григорий Шатинский",
      "userId": "03953634718986252366"
     },
     "user_tz": -180
    },
    "id": "-Dyg1PruglYw",
    "outputId": "d8cc6839-935c-4ce2-9e83-52b47ac8588b"
   },
   "outputs": [
    {
     "output_type": "stream",
     "name": "stdout",
     "text": [
      "Drive already mounted at /content/drive/; to attempt to forcibly remount, call drive.mount(\"/content/drive/\", force_remount=True).\n"
     ]
    }
   ],
   "source": [
    "from google.colab import drive\n",
    "drive.mount('/content/drive/')"
   ]
  },
  {
   "cell_type": "code",
   "execution_count": null,
   "metadata": {
    "colab": {
     "base_uri": "https://localhost:8080/",
     "height": 206
    },
    "executionInfo": {
     "elapsed": 754,
     "status": "ok",
     "timestamp": 1734961405036,
     "user": {
      "displayName": "Григорий Шатинский",
      "userId": "03953634718986252366"
     },
     "user_tz": -180
    },
    "id": "wfw6-K-rhtyT",
    "outputId": "1f9b2c05-7ffc-4f6a-fe2d-84951cf58bf6"
   },
   "outputs": [
    {
     "output_type": "execute_result",
     "data": {
      "text/plain": [
       "           0          1          2          3          4          5  \\\n",
       "0 -10.440728   9.220097 -20.707729   6.607158 -19.529615  21.251484   \n",
       "1  12.155823   8.858985 -17.071138 -23.823867  19.192672   3.017127   \n",
       "2  -8.579324  10.500568 -17.501436   5.760518 -20.956348  20.403692   \n",
       "3 -15.446555  -4.035479  15.207785 -13.285472  24.687674  10.801007   \n",
       "4 -18.740831  -6.687865  14.312007 -15.941405  20.368070  16.717548   \n",
       "\n",
       "           6          7          8          9  \n",
       "0 -12.956049  20.434342  12.687891  -1.439507  \n",
       "1 -17.780054   4.750363 -12.049571  27.656253  \n",
       "2 -14.099575  23.691759  13.266730  -4.389464  \n",
       "3   9.490218  23.362035  18.498444 -11.775716  \n",
       "4  11.622035  23.113337  16.466612 -13.347755  "
      ],
      "text/html": [
       "\n",
       "  <div id=\"df-2e757cf4-73b3-4c04-a59d-ec491cf8e1e6\" class=\"colab-df-container\">\n",
       "    <div>\n",
       "<style scoped>\n",
       "    .dataframe tbody tr th:only-of-type {\n",
       "        vertical-align: middle;\n",
       "    }\n",
       "\n",
       "    .dataframe tbody tr th {\n",
       "        vertical-align: top;\n",
       "    }\n",
       "\n",
       "    .dataframe thead th {\n",
       "        text-align: right;\n",
       "    }\n",
       "</style>\n",
       "<table border=\"1\" class=\"dataframe\">\n",
       "  <thead>\n",
       "    <tr style=\"text-align: right;\">\n",
       "      <th></th>\n",
       "      <th>0</th>\n",
       "      <th>1</th>\n",
       "      <th>2</th>\n",
       "      <th>3</th>\n",
       "      <th>4</th>\n",
       "      <th>5</th>\n",
       "      <th>6</th>\n",
       "      <th>7</th>\n",
       "      <th>8</th>\n",
       "      <th>9</th>\n",
       "    </tr>\n",
       "  </thead>\n",
       "  <tbody>\n",
       "    <tr>\n",
       "      <th>0</th>\n",
       "      <td>-10.440728</td>\n",
       "      <td>9.220097</td>\n",
       "      <td>-20.707729</td>\n",
       "      <td>6.607158</td>\n",
       "      <td>-19.529615</td>\n",
       "      <td>21.251484</td>\n",
       "      <td>-12.956049</td>\n",
       "      <td>20.434342</td>\n",
       "      <td>12.687891</td>\n",
       "      <td>-1.439507</td>\n",
       "    </tr>\n",
       "    <tr>\n",
       "      <th>1</th>\n",
       "      <td>12.155823</td>\n",
       "      <td>8.858985</td>\n",
       "      <td>-17.071138</td>\n",
       "      <td>-23.823867</td>\n",
       "      <td>19.192672</td>\n",
       "      <td>3.017127</td>\n",
       "      <td>-17.780054</td>\n",
       "      <td>4.750363</td>\n",
       "      <td>-12.049571</td>\n",
       "      <td>27.656253</td>\n",
       "    </tr>\n",
       "    <tr>\n",
       "      <th>2</th>\n",
       "      <td>-8.579324</td>\n",
       "      <td>10.500568</td>\n",
       "      <td>-17.501436</td>\n",
       "      <td>5.760518</td>\n",
       "      <td>-20.956348</td>\n",
       "      <td>20.403692</td>\n",
       "      <td>-14.099575</td>\n",
       "      <td>23.691759</td>\n",
       "      <td>13.266730</td>\n",
       "      <td>-4.389464</td>\n",
       "    </tr>\n",
       "    <tr>\n",
       "      <th>3</th>\n",
       "      <td>-15.446555</td>\n",
       "      <td>-4.035479</td>\n",
       "      <td>15.207785</td>\n",
       "      <td>-13.285472</td>\n",
       "      <td>24.687674</td>\n",
       "      <td>10.801007</td>\n",
       "      <td>9.490218</td>\n",
       "      <td>23.362035</td>\n",
       "      <td>18.498444</td>\n",
       "      <td>-11.775716</td>\n",
       "    </tr>\n",
       "    <tr>\n",
       "      <th>4</th>\n",
       "      <td>-18.740831</td>\n",
       "      <td>-6.687865</td>\n",
       "      <td>14.312007</td>\n",
       "      <td>-15.941405</td>\n",
       "      <td>20.368070</td>\n",
       "      <td>16.717548</td>\n",
       "      <td>11.622035</td>\n",
       "      <td>23.113337</td>\n",
       "      <td>16.466612</td>\n",
       "      <td>-13.347755</td>\n",
       "    </tr>\n",
       "  </tbody>\n",
       "</table>\n",
       "</div>\n",
       "    <div class=\"colab-df-buttons\">\n",
       "\n",
       "  <div class=\"colab-df-container\">\n",
       "    <button class=\"colab-df-convert\" onclick=\"convertToInteractive('df-2e757cf4-73b3-4c04-a59d-ec491cf8e1e6')\"\n",
       "            title=\"Convert this dataframe to an interactive table.\"\n",
       "            style=\"display:none;\">\n",
       "\n",
       "  <svg xmlns=\"http://www.w3.org/2000/svg\" height=\"24px\" viewBox=\"0 -960 960 960\">\n",
       "    <path d=\"M120-120v-720h720v720H120Zm60-500h600v-160H180v160Zm220 220h160v-160H400v160Zm0 220h160v-160H400v160ZM180-400h160v-160H180v160Zm440 0h160v-160H620v160ZM180-180h160v-160H180v160Zm440 0h160v-160H620v160Z\"/>\n",
       "  </svg>\n",
       "    </button>\n",
       "\n",
       "  <style>\n",
       "    .colab-df-container {\n",
       "      display:flex;\n",
       "      gap: 12px;\n",
       "    }\n",
       "\n",
       "    .colab-df-convert {\n",
       "      background-color: #E8F0FE;\n",
       "      border: none;\n",
       "      border-radius: 50%;\n",
       "      cursor: pointer;\n",
       "      display: none;\n",
       "      fill: #1967D2;\n",
       "      height: 32px;\n",
       "      padding: 0 0 0 0;\n",
       "      width: 32px;\n",
       "    }\n",
       "\n",
       "    .colab-df-convert:hover {\n",
       "      background-color: #E2EBFA;\n",
       "      box-shadow: 0px 1px 2px rgba(60, 64, 67, 0.3), 0px 1px 3px 1px rgba(60, 64, 67, 0.15);\n",
       "      fill: #174EA6;\n",
       "    }\n",
       "\n",
       "    .colab-df-buttons div {\n",
       "      margin-bottom: 4px;\n",
       "    }\n",
       "\n",
       "    [theme=dark] .colab-df-convert {\n",
       "      background-color: #3B4455;\n",
       "      fill: #D2E3FC;\n",
       "    }\n",
       "\n",
       "    [theme=dark] .colab-df-convert:hover {\n",
       "      background-color: #434B5C;\n",
       "      box-shadow: 0px 1px 3px 1px rgba(0, 0, 0, 0.15);\n",
       "      filter: drop-shadow(0px 1px 2px rgba(0, 0, 0, 0.3));\n",
       "      fill: #FFFFFF;\n",
       "    }\n",
       "  </style>\n",
       "\n",
       "    <script>\n",
       "      const buttonEl =\n",
       "        document.querySelector('#df-2e757cf4-73b3-4c04-a59d-ec491cf8e1e6 button.colab-df-convert');\n",
       "      buttonEl.style.display =\n",
       "        google.colab.kernel.accessAllowed ? 'block' : 'none';\n",
       "\n",
       "      async function convertToInteractive(key) {\n",
       "        const element = document.querySelector('#df-2e757cf4-73b3-4c04-a59d-ec491cf8e1e6');\n",
       "        const dataTable =\n",
       "          await google.colab.kernel.invokeFunction('convertToInteractive',\n",
       "                                                    [key], {});\n",
       "        if (!dataTable) return;\n",
       "\n",
       "        const docLinkHtml = 'Like what you see? Visit the ' +\n",
       "          '<a target=\"_blank\" href=https://colab.research.google.com/notebooks/data_table.ipynb>data table notebook</a>'\n",
       "          + ' to learn more about interactive tables.';\n",
       "        element.innerHTML = '';\n",
       "        dataTable['output_type'] = 'display_data';\n",
       "        await google.colab.output.renderOutput(dataTable, element);\n",
       "        const docLink = document.createElement('div');\n",
       "        docLink.innerHTML = docLinkHtml;\n",
       "        element.appendChild(docLink);\n",
       "      }\n",
       "    </script>\n",
       "  </div>\n",
       "\n",
       "\n",
       "<div id=\"df-d5dce43a-0de6-48e5-b082-b90491dfcac8\">\n",
       "  <button class=\"colab-df-quickchart\" onclick=\"quickchart('df-d5dce43a-0de6-48e5-b082-b90491dfcac8')\"\n",
       "            title=\"Suggest charts\"\n",
       "            style=\"display:none;\">\n",
       "\n",
       "<svg xmlns=\"http://www.w3.org/2000/svg\" height=\"24px\"viewBox=\"0 0 24 24\"\n",
       "     width=\"24px\">\n",
       "    <g>\n",
       "        <path d=\"M19 3H5c-1.1 0-2 .9-2 2v14c0 1.1.9 2 2 2h14c1.1 0 2-.9 2-2V5c0-1.1-.9-2-2-2zM9 17H7v-7h2v7zm4 0h-2V7h2v10zm4 0h-2v-4h2v4z\"/>\n",
       "    </g>\n",
       "</svg>\n",
       "  </button>\n",
       "\n",
       "<style>\n",
       "  .colab-df-quickchart {\n",
       "      --bg-color: #E8F0FE;\n",
       "      --fill-color: #1967D2;\n",
       "      --hover-bg-color: #E2EBFA;\n",
       "      --hover-fill-color: #174EA6;\n",
       "      --disabled-fill-color: #AAA;\n",
       "      --disabled-bg-color: #DDD;\n",
       "  }\n",
       "\n",
       "  [theme=dark] .colab-df-quickchart {\n",
       "      --bg-color: #3B4455;\n",
       "      --fill-color: #D2E3FC;\n",
       "      --hover-bg-color: #434B5C;\n",
       "      --hover-fill-color: #FFFFFF;\n",
       "      --disabled-bg-color: #3B4455;\n",
       "      --disabled-fill-color: #666;\n",
       "  }\n",
       "\n",
       "  .colab-df-quickchart {\n",
       "    background-color: var(--bg-color);\n",
       "    border: none;\n",
       "    border-radius: 50%;\n",
       "    cursor: pointer;\n",
       "    display: none;\n",
       "    fill: var(--fill-color);\n",
       "    height: 32px;\n",
       "    padding: 0;\n",
       "    width: 32px;\n",
       "  }\n",
       "\n",
       "  .colab-df-quickchart:hover {\n",
       "    background-color: var(--hover-bg-color);\n",
       "    box-shadow: 0 1px 2px rgba(60, 64, 67, 0.3), 0 1px 3px 1px rgba(60, 64, 67, 0.15);\n",
       "    fill: var(--button-hover-fill-color);\n",
       "  }\n",
       "\n",
       "  .colab-df-quickchart-complete:disabled,\n",
       "  .colab-df-quickchart-complete:disabled:hover {\n",
       "    background-color: var(--disabled-bg-color);\n",
       "    fill: var(--disabled-fill-color);\n",
       "    box-shadow: none;\n",
       "  }\n",
       "\n",
       "  .colab-df-spinner {\n",
       "    border: 2px solid var(--fill-color);\n",
       "    border-color: transparent;\n",
       "    border-bottom-color: var(--fill-color);\n",
       "    animation:\n",
       "      spin 1s steps(1) infinite;\n",
       "  }\n",
       "\n",
       "  @keyframes spin {\n",
       "    0% {\n",
       "      border-color: transparent;\n",
       "      border-bottom-color: var(--fill-color);\n",
       "      border-left-color: var(--fill-color);\n",
       "    }\n",
       "    20% {\n",
       "      border-color: transparent;\n",
       "      border-left-color: var(--fill-color);\n",
       "      border-top-color: var(--fill-color);\n",
       "    }\n",
       "    30% {\n",
       "      border-color: transparent;\n",
       "      border-left-color: var(--fill-color);\n",
       "      border-top-color: var(--fill-color);\n",
       "      border-right-color: var(--fill-color);\n",
       "    }\n",
       "    40% {\n",
       "      border-color: transparent;\n",
       "      border-right-color: var(--fill-color);\n",
       "      border-top-color: var(--fill-color);\n",
       "    }\n",
       "    60% {\n",
       "      border-color: transparent;\n",
       "      border-right-color: var(--fill-color);\n",
       "    }\n",
       "    80% {\n",
       "      border-color: transparent;\n",
       "      border-right-color: var(--fill-color);\n",
       "      border-bottom-color: var(--fill-color);\n",
       "    }\n",
       "    90% {\n",
       "      border-color: transparent;\n",
       "      border-bottom-color: var(--fill-color);\n",
       "    }\n",
       "  }\n",
       "</style>\n",
       "\n",
       "  <script>\n",
       "    async function quickchart(key) {\n",
       "      const quickchartButtonEl =\n",
       "        document.querySelector('#' + key + ' button');\n",
       "      quickchartButtonEl.disabled = true;  // To prevent multiple clicks.\n",
       "      quickchartButtonEl.classList.add('colab-df-spinner');\n",
       "      try {\n",
       "        const charts = await google.colab.kernel.invokeFunction(\n",
       "            'suggestCharts', [key], {});\n",
       "      } catch (error) {\n",
       "        console.error('Error during call to suggestCharts:', error);\n",
       "      }\n",
       "      quickchartButtonEl.classList.remove('colab-df-spinner');\n",
       "      quickchartButtonEl.classList.add('colab-df-quickchart-complete');\n",
       "    }\n",
       "    (() => {\n",
       "      let quickchartButtonEl =\n",
       "        document.querySelector('#df-d5dce43a-0de6-48e5-b082-b90491dfcac8 button');\n",
       "      quickchartButtonEl.style.display =\n",
       "        google.colab.kernel.accessAllowed ? 'block' : 'none';\n",
       "    })();\n",
       "  </script>\n",
       "</div>\n",
       "    </div>\n",
       "  </div>\n"
      ],
      "application/vnd.google.colaboratory.intrinsic+json": {
       "type": "dataframe",
       "variable_name": "data",
       "summary": "{\n  \"name\": \"data\",\n  \"rows\": 60,\n  \"fields\": [\n    {\n      \"column\": 0,\n      \"properties\": {\n        \"dtype\": \"number\",\n        \"std\": 12.900661824114186,\n        \"min\": -22.648047138216285,\n        \"max\": 14.561046505044011,\n        \"num_unique_values\": 60,\n        \"samples\": [\n          -10.440728161398399,\n          -12.855656185607327,\n          -8.973332471976075\n        ],\n        \"semantic_type\": \"\",\n        \"description\": \"\"\n      }\n    },\n    {\n      \"column\": 1,\n      \"properties\": {\n        \"dtype\": \"number\",\n        \"std\": 10.45351123605376,\n        \"min\": -15.724366428590516,\n        \"max\": 16.47297667397191,\n        \"num_unique_values\": 60,\n        \"samples\": [\n          9.220097238724813,\n          -5.753352643688384,\n          12.92563569825473\n        ],\n        \"semantic_type\": \"\",\n        \"description\": \"\"\n      }\n    },\n    {\n      \"column\": 2,\n      \"properties\": {\n        \"dtype\": \"number\",\n        \"std\": 15.976140089288043,\n        \"min\": -22.533885123652404,\n        \"max\": 23.973124769306615,\n        \"num_unique_values\": 60,\n        \"samples\": [\n          -20.70772870569201,\n          2.410525395007228,\n          -22.533885123652404\n        ],\n        \"semantic_type\": \"\",\n        \"description\": \"\"\n      }\n    },\n    {\n      \"column\": 3,\n      \"properties\": {\n        \"dtype\": \"number\",\n        \"std\": 12.113339848166202,\n        \"min\": -25.936949255223084,\n        \"max\": 13.499595766787994,\n        \"num_unique_values\": 60,\n        \"samples\": [\n          6.60715776319032,\n          -9.730558507071773,\n          7.636914611823372\n        ],\n        \"semantic_type\": \"\",\n        \"description\": \"\"\n      }\n    },\n    {\n      \"column\": 4,\n      \"properties\": {\n        \"dtype\": \"number\",\n        \"std\": 14.67237730518651,\n        \"min\": -20.95634837274491,\n        \"max\": 24.687674217255005,\n        \"num_unique_values\": 60,\n        \"samples\": [\n          -19.529615220129603,\n          16.7191812720011,\n          -19.11893300834932\n        ],\n        \"semantic_type\": \"\",\n        \"description\": \"\"\n      }\n    },\n    {\n      \"column\": 5,\n      \"properties\": {\n        \"dtype\": \"number\",\n        \"std\": 11.716187239197463,\n        \"min\": -13.423286248523407,\n        \"max\": 23.188941272436026,\n        \"num_unique_values\": 60,\n        \"samples\": [\n          21.251483636932186,\n          19.687078082306073,\n          21.755109008830896\n        ],\n        \"semantic_type\": \"\",\n        \"description\": \"\"\n      }\n    },\n    {\n      \"column\": 6,\n      \"properties\": {\n        \"dtype\": \"number\",\n        \"std\": 11.540636889975662,\n        \"min\": -24.081729977917835,\n        \"max\": 13.104618825661133,\n        \"num_unique_values\": 60,\n        \"samples\": [\n          -12.95604854609428,\n          -22.542731582271287,\n          -10.109719151416208\n        ],\n        \"semantic_type\": \"\",\n        \"description\": \"\"\n      }\n    },\n    {\n      \"column\": 7,\n      \"properties\": {\n        \"dtype\": \"number\",\n        \"std\": 14.929848470537449,\n        \"min\": -17.90372446388588,\n        \"max\": 25.54723024015656,\n        \"num_unique_values\": 60,\n        \"samples\": [\n          20.43434194407031,\n          -7.995538105944278,\n          23.053065250082565\n        ],\n        \"semantic_type\": \"\",\n        \"description\": \"\"\n      }\n    },\n    {\n      \"column\": 8,\n      \"properties\": {\n        \"dtype\": \"number\",\n        \"std\": 14.480721936608763,\n        \"min\": -20.42387998794773,\n        \"max\": 19.08406707358366,\n        \"num_unique_values\": 60,\n        \"samples\": [\n          12.687890879899408,\n          -4.526991598292932,\n          13.843987287276663\n        ],\n        \"semantic_type\": \"\",\n        \"description\": \"\"\n      }\n    },\n    {\n      \"column\": 9,\n      \"properties\": {\n        \"dtype\": \"number\",\n        \"std\": 11.919513919608523,\n        \"min\": -16.6671293991483,\n        \"max\": 27.656253262250726,\n        \"num_unique_values\": 60,\n        \"samples\": [\n          -1.4395065867384207,\n          6.564124496538157,\n          -6.707594265104849\n        ],\n        \"semantic_type\": \"\",\n        \"description\": \"\"\n      }\n    }\n  ]\n}"
      }
     },
     "metadata": {},
     "execution_count": 5
    }
   ],
   "source": [
    "data = pd.read_csv(\"/content/drive/MyDrive/DeepLearningCourse/71_36.csv\", header = None)\n",
    "data.head()"
   ]
  },
  {
   "cell_type": "code",
   "execution_count": null,
   "metadata": {
    "colab": {
     "base_uri": "https://localhost:8080/",
     "height": 300
    },
    "executionInfo": {
     "elapsed": 4,
     "status": "ok",
     "timestamp": 1734961405402,
     "user": {
      "displayName": "Григорий Шатинский",
      "userId": "03953634718986252366"
     },
     "user_tz": -180
    },
    "id": "Kpah-rotlRrk",
    "outputId": "a38aeea7-2bc6-460d-bb16-c28c79f89698"
   },
   "outputs": [
    {
     "output_type": "execute_result",
     "data": {
      "text/plain": [
       "               0          1          2          3          4          5  \\\n",
       "count  60.000000  60.000000  60.000000  60.000000  60.000000  60.000000   \n",
       "mean   -5.581611   1.643065  -0.939594  -7.883424  13.391209   7.959774   \n",
       "std    12.900662  10.453511  15.976140  12.113340  14.672377  11.716187   \n",
       "min   -22.648047 -15.724366 -22.533885 -25.936949 -20.956348 -13.423286   \n",
       "25%   -15.189461  -6.453115 -17.227716 -15.481828  16.812196   0.892577   \n",
       "50%   -10.041902   2.259145  -2.142141 -11.267086  18.961272   6.999911   \n",
       "75%    10.014061  11.779518  16.111048   5.790077  21.333163  19.689425   \n",
       "max    14.561047  16.472977  23.973125  13.499596  24.687674  23.188941   \n",
       "\n",
       "               6          7          8          9  \n",
       "count  60.000000  60.000000  60.000000  60.000000  \n",
       "mean  -10.187819   4.579812   1.063883   1.801798  \n",
       "std    11.540637  14.929848  14.480722  11.919514  \n",
       "min   -24.081730 -17.903724 -20.423880 -16.667129  \n",
       "25%   -20.786315  -8.725516 -11.673206  -4.365907  \n",
       "50%   -12.937971   2.550236   3.513982  -1.651201  \n",
       "75%    -4.251454  21.694990  14.723837   6.706930  \n",
       "max    13.104619  25.547230  19.084067  27.656253  "
      ],
      "text/html": [
       "\n",
       "  <div id=\"df-d48f5a18-9262-4117-8093-c639b5da439d\" class=\"colab-df-container\">\n",
       "    <div>\n",
       "<style scoped>\n",
       "    .dataframe tbody tr th:only-of-type {\n",
       "        vertical-align: middle;\n",
       "    }\n",
       "\n",
       "    .dataframe tbody tr th {\n",
       "        vertical-align: top;\n",
       "    }\n",
       "\n",
       "    .dataframe thead th {\n",
       "        text-align: right;\n",
       "    }\n",
       "</style>\n",
       "<table border=\"1\" class=\"dataframe\">\n",
       "  <thead>\n",
       "    <tr style=\"text-align: right;\">\n",
       "      <th></th>\n",
       "      <th>0</th>\n",
       "      <th>1</th>\n",
       "      <th>2</th>\n",
       "      <th>3</th>\n",
       "      <th>4</th>\n",
       "      <th>5</th>\n",
       "      <th>6</th>\n",
       "      <th>7</th>\n",
       "      <th>8</th>\n",
       "      <th>9</th>\n",
       "    </tr>\n",
       "  </thead>\n",
       "  <tbody>\n",
       "    <tr>\n",
       "      <th>count</th>\n",
       "      <td>60.000000</td>\n",
       "      <td>60.000000</td>\n",
       "      <td>60.000000</td>\n",
       "      <td>60.000000</td>\n",
       "      <td>60.000000</td>\n",
       "      <td>60.000000</td>\n",
       "      <td>60.000000</td>\n",
       "      <td>60.000000</td>\n",
       "      <td>60.000000</td>\n",
       "      <td>60.000000</td>\n",
       "    </tr>\n",
       "    <tr>\n",
       "      <th>mean</th>\n",
       "      <td>-5.581611</td>\n",
       "      <td>1.643065</td>\n",
       "      <td>-0.939594</td>\n",
       "      <td>-7.883424</td>\n",
       "      <td>13.391209</td>\n",
       "      <td>7.959774</td>\n",
       "      <td>-10.187819</td>\n",
       "      <td>4.579812</td>\n",
       "      <td>1.063883</td>\n",
       "      <td>1.801798</td>\n",
       "    </tr>\n",
       "    <tr>\n",
       "      <th>std</th>\n",
       "      <td>12.900662</td>\n",
       "      <td>10.453511</td>\n",
       "      <td>15.976140</td>\n",
       "      <td>12.113340</td>\n",
       "      <td>14.672377</td>\n",
       "      <td>11.716187</td>\n",
       "      <td>11.540637</td>\n",
       "      <td>14.929848</td>\n",
       "      <td>14.480722</td>\n",
       "      <td>11.919514</td>\n",
       "    </tr>\n",
       "    <tr>\n",
       "      <th>min</th>\n",
       "      <td>-22.648047</td>\n",
       "      <td>-15.724366</td>\n",
       "      <td>-22.533885</td>\n",
       "      <td>-25.936949</td>\n",
       "      <td>-20.956348</td>\n",
       "      <td>-13.423286</td>\n",
       "      <td>-24.081730</td>\n",
       "      <td>-17.903724</td>\n",
       "      <td>-20.423880</td>\n",
       "      <td>-16.667129</td>\n",
       "    </tr>\n",
       "    <tr>\n",
       "      <th>25%</th>\n",
       "      <td>-15.189461</td>\n",
       "      <td>-6.453115</td>\n",
       "      <td>-17.227716</td>\n",
       "      <td>-15.481828</td>\n",
       "      <td>16.812196</td>\n",
       "      <td>0.892577</td>\n",
       "      <td>-20.786315</td>\n",
       "      <td>-8.725516</td>\n",
       "      <td>-11.673206</td>\n",
       "      <td>-4.365907</td>\n",
       "    </tr>\n",
       "    <tr>\n",
       "      <th>50%</th>\n",
       "      <td>-10.041902</td>\n",
       "      <td>2.259145</td>\n",
       "      <td>-2.142141</td>\n",
       "      <td>-11.267086</td>\n",
       "      <td>18.961272</td>\n",
       "      <td>6.999911</td>\n",
       "      <td>-12.937971</td>\n",
       "      <td>2.550236</td>\n",
       "      <td>3.513982</td>\n",
       "      <td>-1.651201</td>\n",
       "    </tr>\n",
       "    <tr>\n",
       "      <th>75%</th>\n",
       "      <td>10.014061</td>\n",
       "      <td>11.779518</td>\n",
       "      <td>16.111048</td>\n",
       "      <td>5.790077</td>\n",
       "      <td>21.333163</td>\n",
       "      <td>19.689425</td>\n",
       "      <td>-4.251454</td>\n",
       "      <td>21.694990</td>\n",
       "      <td>14.723837</td>\n",
       "      <td>6.706930</td>\n",
       "    </tr>\n",
       "    <tr>\n",
       "      <th>max</th>\n",
       "      <td>14.561047</td>\n",
       "      <td>16.472977</td>\n",
       "      <td>23.973125</td>\n",
       "      <td>13.499596</td>\n",
       "      <td>24.687674</td>\n",
       "      <td>23.188941</td>\n",
       "      <td>13.104619</td>\n",
       "      <td>25.547230</td>\n",
       "      <td>19.084067</td>\n",
       "      <td>27.656253</td>\n",
       "    </tr>\n",
       "  </tbody>\n",
       "</table>\n",
       "</div>\n",
       "    <div class=\"colab-df-buttons\">\n",
       "\n",
       "  <div class=\"colab-df-container\">\n",
       "    <button class=\"colab-df-convert\" onclick=\"convertToInteractive('df-d48f5a18-9262-4117-8093-c639b5da439d')\"\n",
       "            title=\"Convert this dataframe to an interactive table.\"\n",
       "            style=\"display:none;\">\n",
       "\n",
       "  <svg xmlns=\"http://www.w3.org/2000/svg\" height=\"24px\" viewBox=\"0 -960 960 960\">\n",
       "    <path d=\"M120-120v-720h720v720H120Zm60-500h600v-160H180v160Zm220 220h160v-160H400v160Zm0 220h160v-160H400v160ZM180-400h160v-160H180v160Zm440 0h160v-160H620v160ZM180-180h160v-160H180v160Zm440 0h160v-160H620v160Z\"/>\n",
       "  </svg>\n",
       "    </button>\n",
       "\n",
       "  <style>\n",
       "    .colab-df-container {\n",
       "      display:flex;\n",
       "      gap: 12px;\n",
       "    }\n",
       "\n",
       "    .colab-df-convert {\n",
       "      background-color: #E8F0FE;\n",
       "      border: none;\n",
       "      border-radius: 50%;\n",
       "      cursor: pointer;\n",
       "      display: none;\n",
       "      fill: #1967D2;\n",
       "      height: 32px;\n",
       "      padding: 0 0 0 0;\n",
       "      width: 32px;\n",
       "    }\n",
       "\n",
       "    .colab-df-convert:hover {\n",
       "      background-color: #E2EBFA;\n",
       "      box-shadow: 0px 1px 2px rgba(60, 64, 67, 0.3), 0px 1px 3px 1px rgba(60, 64, 67, 0.15);\n",
       "      fill: #174EA6;\n",
       "    }\n",
       "\n",
       "    .colab-df-buttons div {\n",
       "      margin-bottom: 4px;\n",
       "    }\n",
       "\n",
       "    [theme=dark] .colab-df-convert {\n",
       "      background-color: #3B4455;\n",
       "      fill: #D2E3FC;\n",
       "    }\n",
       "\n",
       "    [theme=dark] .colab-df-convert:hover {\n",
       "      background-color: #434B5C;\n",
       "      box-shadow: 0px 1px 3px 1px rgba(0, 0, 0, 0.15);\n",
       "      filter: drop-shadow(0px 1px 2px rgba(0, 0, 0, 0.3));\n",
       "      fill: #FFFFFF;\n",
       "    }\n",
       "  </style>\n",
       "\n",
       "    <script>\n",
       "      const buttonEl =\n",
       "        document.querySelector('#df-d48f5a18-9262-4117-8093-c639b5da439d button.colab-df-convert');\n",
       "      buttonEl.style.display =\n",
       "        google.colab.kernel.accessAllowed ? 'block' : 'none';\n",
       "\n",
       "      async function convertToInteractive(key) {\n",
       "        const element = document.querySelector('#df-d48f5a18-9262-4117-8093-c639b5da439d');\n",
       "        const dataTable =\n",
       "          await google.colab.kernel.invokeFunction('convertToInteractive',\n",
       "                                                    [key], {});\n",
       "        if (!dataTable) return;\n",
       "\n",
       "        const docLinkHtml = 'Like what you see? Visit the ' +\n",
       "          '<a target=\"_blank\" href=https://colab.research.google.com/notebooks/data_table.ipynb>data table notebook</a>'\n",
       "          + ' to learn more about interactive tables.';\n",
       "        element.innerHTML = '';\n",
       "        dataTable['output_type'] = 'display_data';\n",
       "        await google.colab.output.renderOutput(dataTable, element);\n",
       "        const docLink = document.createElement('div');\n",
       "        docLink.innerHTML = docLinkHtml;\n",
       "        element.appendChild(docLink);\n",
       "      }\n",
       "    </script>\n",
       "  </div>\n",
       "\n",
       "\n",
       "<div id=\"df-2aeeb423-12a6-4853-94b1-f9938ad2ffb1\">\n",
       "  <button class=\"colab-df-quickchart\" onclick=\"quickchart('df-2aeeb423-12a6-4853-94b1-f9938ad2ffb1')\"\n",
       "            title=\"Suggest charts\"\n",
       "            style=\"display:none;\">\n",
       "\n",
       "<svg xmlns=\"http://www.w3.org/2000/svg\" height=\"24px\"viewBox=\"0 0 24 24\"\n",
       "     width=\"24px\">\n",
       "    <g>\n",
       "        <path d=\"M19 3H5c-1.1 0-2 .9-2 2v14c0 1.1.9 2 2 2h14c1.1 0 2-.9 2-2V5c0-1.1-.9-2-2-2zM9 17H7v-7h2v7zm4 0h-2V7h2v10zm4 0h-2v-4h2v4z\"/>\n",
       "    </g>\n",
       "</svg>\n",
       "  </button>\n",
       "\n",
       "<style>\n",
       "  .colab-df-quickchart {\n",
       "      --bg-color: #E8F0FE;\n",
       "      --fill-color: #1967D2;\n",
       "      --hover-bg-color: #E2EBFA;\n",
       "      --hover-fill-color: #174EA6;\n",
       "      --disabled-fill-color: #AAA;\n",
       "      --disabled-bg-color: #DDD;\n",
       "  }\n",
       "\n",
       "  [theme=dark] .colab-df-quickchart {\n",
       "      --bg-color: #3B4455;\n",
       "      --fill-color: #D2E3FC;\n",
       "      --hover-bg-color: #434B5C;\n",
       "      --hover-fill-color: #FFFFFF;\n",
       "      --disabled-bg-color: #3B4455;\n",
       "      --disabled-fill-color: #666;\n",
       "  }\n",
       "\n",
       "  .colab-df-quickchart {\n",
       "    background-color: var(--bg-color);\n",
       "    border: none;\n",
       "    border-radius: 50%;\n",
       "    cursor: pointer;\n",
       "    display: none;\n",
       "    fill: var(--fill-color);\n",
       "    height: 32px;\n",
       "    padding: 0;\n",
       "    width: 32px;\n",
       "  }\n",
       "\n",
       "  .colab-df-quickchart:hover {\n",
       "    background-color: var(--hover-bg-color);\n",
       "    box-shadow: 0 1px 2px rgba(60, 64, 67, 0.3), 0 1px 3px 1px rgba(60, 64, 67, 0.15);\n",
       "    fill: var(--button-hover-fill-color);\n",
       "  }\n",
       "\n",
       "  .colab-df-quickchart-complete:disabled,\n",
       "  .colab-df-quickchart-complete:disabled:hover {\n",
       "    background-color: var(--disabled-bg-color);\n",
       "    fill: var(--disabled-fill-color);\n",
       "    box-shadow: none;\n",
       "  }\n",
       "\n",
       "  .colab-df-spinner {\n",
       "    border: 2px solid var(--fill-color);\n",
       "    border-color: transparent;\n",
       "    border-bottom-color: var(--fill-color);\n",
       "    animation:\n",
       "      spin 1s steps(1) infinite;\n",
       "  }\n",
       "\n",
       "  @keyframes spin {\n",
       "    0% {\n",
       "      border-color: transparent;\n",
       "      border-bottom-color: var(--fill-color);\n",
       "      border-left-color: var(--fill-color);\n",
       "    }\n",
       "    20% {\n",
       "      border-color: transparent;\n",
       "      border-left-color: var(--fill-color);\n",
       "      border-top-color: var(--fill-color);\n",
       "    }\n",
       "    30% {\n",
       "      border-color: transparent;\n",
       "      border-left-color: var(--fill-color);\n",
       "      border-top-color: var(--fill-color);\n",
       "      border-right-color: var(--fill-color);\n",
       "    }\n",
       "    40% {\n",
       "      border-color: transparent;\n",
       "      border-right-color: var(--fill-color);\n",
       "      border-top-color: var(--fill-color);\n",
       "    }\n",
       "    60% {\n",
       "      border-color: transparent;\n",
       "      border-right-color: var(--fill-color);\n",
       "    }\n",
       "    80% {\n",
       "      border-color: transparent;\n",
       "      border-right-color: var(--fill-color);\n",
       "      border-bottom-color: var(--fill-color);\n",
       "    }\n",
       "    90% {\n",
       "      border-color: transparent;\n",
       "      border-bottom-color: var(--fill-color);\n",
       "    }\n",
       "  }\n",
       "</style>\n",
       "\n",
       "  <script>\n",
       "    async function quickchart(key) {\n",
       "      const quickchartButtonEl =\n",
       "        document.querySelector('#' + key + ' button');\n",
       "      quickchartButtonEl.disabled = true;  // To prevent multiple clicks.\n",
       "      quickchartButtonEl.classList.add('colab-df-spinner');\n",
       "      try {\n",
       "        const charts = await google.colab.kernel.invokeFunction(\n",
       "            'suggestCharts', [key], {});\n",
       "      } catch (error) {\n",
       "        console.error('Error during call to suggestCharts:', error);\n",
       "      }\n",
       "      quickchartButtonEl.classList.remove('colab-df-spinner');\n",
       "      quickchartButtonEl.classList.add('colab-df-quickchart-complete');\n",
       "    }\n",
       "    (() => {\n",
       "      let quickchartButtonEl =\n",
       "        document.querySelector('#df-2aeeb423-12a6-4853-94b1-f9938ad2ffb1 button');\n",
       "      quickchartButtonEl.style.display =\n",
       "        google.colab.kernel.accessAllowed ? 'block' : 'none';\n",
       "    })();\n",
       "  </script>\n",
       "</div>\n",
       "    </div>\n",
       "  </div>\n"
      ],
      "application/vnd.google.colaboratory.intrinsic+json": {
       "type": "dataframe",
       "summary": "{\n  \"name\": \"data\",\n  \"rows\": 8,\n  \"fields\": [\n    {\n      \"column\": 0,\n      \"properties\": {\n        \"dtype\": \"number\",\n        \"std\": 25.94559766506301,\n        \"min\": -22.648047138216285,\n        \"max\": 60.0,\n        \"num_unique_values\": 8,\n        \"samples\": [\n          -5.581611051380976,\n          -10.041901976325793,\n          60.0\n        ],\n        \"semantic_type\": \"\",\n        \"description\": \"\"\n      }\n    },\n    {\n      \"column\": 1,\n      \"properties\": {\n        \"dtype\": \"number\",\n        \"std\": 22.701339810148575,\n        \"min\": -15.724366428590516,\n        \"max\": 60.0,\n        \"num_unique_values\": 8,\n        \"samples\": [\n          1.643065158160989,\n          2.2591453596275883,\n          60.0\n        ],\n        \"semantic_type\": \"\",\n        \"description\": \"\"\n      }\n    },\n    {\n      \"column\": 2,\n      \"properties\": {\n        \"dtype\": \"number\",\n        \"std\": 26.266395340062463,\n        \"min\": -22.533885123652404,\n        \"max\": 60.0,\n        \"num_unique_values\": 8,\n        \"samples\": [\n          -0.9395938793038944,\n          -2.142140828224728,\n          60.0\n        ],\n        \"semantic_type\": \"\",\n        \"description\": \"\"\n      }\n    },\n    {\n      \"column\": 3,\n      \"properties\": {\n        \"dtype\": \"number\",\n        \"std\": 26.579167975878025,\n        \"min\": -25.936949255223084,\n        \"max\": 60.0,\n        \"num_unique_values\": 8,\n        \"samples\": [\n          -7.883423662380439,\n          -11.267086097115193,\n          60.0\n        ],\n        \"semantic_type\": \"\",\n        \"description\": \"\"\n      }\n    },\n    {\n      \"column\": 4,\n      \"properties\": {\n        \"dtype\": \"number\",\n        \"std\": 21.938478427762846,\n        \"min\": -20.95634837274491,\n        \"max\": 60.0,\n        \"num_unique_values\": 8,\n        \"samples\": [\n          13.391209187839255,\n          18.961272032761478,\n          60.0\n        ],\n        \"semantic_type\": \"\",\n        \"description\": \"\"\n      }\n    },\n    {\n      \"column\": 5,\n      \"properties\": {\n        \"dtype\": \"number\",\n        \"std\": 21.52803570976512,\n        \"min\": -13.423286248523407,\n        \"max\": 60.0,\n        \"num_unique_values\": 8,\n        \"samples\": [\n          7.95977405353659,\n          6.999910997579493,\n          60.0\n        ],\n        \"semantic_type\": \"\",\n        \"description\": \"\"\n      }\n    },\n    {\n      \"column\": 6,\n      \"properties\": {\n        \"dtype\": \"number\",\n        \"std\": 27.221198818377072,\n        \"min\": -24.081729977917835,\n        \"max\": 60.0,\n        \"num_unique_values\": 8,\n        \"samples\": [\n          -10.187819030010786,\n          -12.937971017769888,\n          60.0\n        ],\n        \"semantic_type\": \"\",\n        \"description\": \"\"\n      }\n    },\n    {\n      \"column\": 7,\n      \"properties\": {\n        \"dtype\": \"number\",\n        \"std\": 24.061455123644055,\n        \"min\": -17.90372446388588,\n        \"max\": 60.0,\n        \"num_unique_values\": 8,\n        \"samples\": [\n          4.579811503052238,\n          2.550235679142437,\n          60.0\n        ],\n        \"semantic_type\": \"\",\n        \"description\": \"\"\n      }\n    },\n    {\n      \"column\": 8,\n      \"properties\": {\n        \"dtype\": \"number\",\n        \"std\": 24.325473827437747,\n        \"min\": -20.42387998794773,\n        \"max\": 60.0,\n        \"num_unique_values\": 8,\n        \"samples\": [\n          1.0638832447206061,\n          3.5139817918570557,\n          60.0\n        ],\n        \"semantic_type\": \"\",\n        \"description\": \"\"\n      }\n    },\n    {\n      \"column\": 9,\n      \"properties\": {\n        \"dtype\": \"number\",\n        \"std\": 23.733950505195214,\n        \"min\": -16.6671293991483,\n        \"max\": 60.0,\n        \"num_unique_values\": 8,\n        \"samples\": [\n          1.8017982860804866,\n          -1.6512006217996067,\n          60.0\n        ],\n        \"semantic_type\": \"\",\n        \"description\": \"\"\n      }\n    }\n  ]\n}"
      }
     },
     "metadata": {},
     "execution_count": 6
    }
   ],
   "source": [
    "data.describe()"
   ]
  },
  {
   "cell_type": "code",
   "execution_count": null,
   "metadata": {
    "id": "JfA9Nf-aheHi"
   },
   "outputs": [],
   "source": [
    "pca = PCA(n_components = 10, svd_solver = 'full')\n",
    "pca.fit(data)\n",
    "pca_data = pca.transform(data)"
   ]
  },
  {
   "cell_type": "code",
   "execution_count": null,
   "metadata": {
    "id": "x-RMS_k6iGk0",
    "colab": {
     "base_uri": "https://localhost:8080/"
    },
    "executionInfo": {
     "status": "ok",
     "timestamp": 1734961417093,
     "user_tz": -180,
     "elapsed": 259,
     "user": {
      "displayName": "Григорий Шатинский",
      "userId": "03953634718986252366"
     }
    },
    "outputId": "0b0836f7-e5f2-4fa3-e30a-a5e14ce70e3e"
   },
   "outputs": [
    {
     "output_type": "execute_result",
     "data": {
      "text/plain": [
       "array([40.975, -4.522])"
      ]
     },
     "metadata": {},
     "execution_count": 9
    }
   ],
   "source": "pca_data[0].round(3)[:2]"
  },
  {
   "cell_type": "code",
   "execution_count": null,
   "metadata": {
    "id": "xnnAwWTWiUAM"
   },
   "outputs": [],
   "source": "explained_variance_ratio = np.sum(pca.explained_variance_ratio_[:2])"
  },
  {
   "cell_type": "code",
   "execution_count": null,
   "metadata": {
    "id": "q7bXEiMfmR6d",
    "colab": {
     "base_uri": "https://localhost:8080/",
     "height": 449
    },
    "executionInfo": {
     "status": "ok",
     "timestamp": 1734961419616,
     "user_tz": -180,
     "elapsed": 322,
     "user": {
      "displayName": "Григорий Шатинский",
      "userId": "03953634718986252366"
     }
    },
    "outputId": "9ffef55c-3972-4467-f4ef-e6b77bb69f65"
   },
   "outputs": [
    {
     "output_type": "execute_result",
     "data": {
      "text/plain": [
       "[<matplotlib.lines.Line2D at 0x7969054263b0>]"
      ]
     },
     "metadata": {},
     "execution_count": 11
    },
    {
     "output_type": "display_data",
     "data": {
      "text/plain": [
       "<Figure size 640x480 with 1 Axes>"
      ],
      "image/png": "[encoded data removed]"
     },
     "metadata": {}
    }
   ],
   "source": [
    "explained_variance = np.cumsum(pca.explained_variance_ratio_).round(3)\n",
    "plt.plot(np.arange(1,11), explained_variance, ls = '-')"
   ]
  },
  {
   "cell_type": "code",
   "execution_count": null,
   "metadata": {
    "id": "eniflg69iWuA"
   },
   "outputs": [],
   "source": [
    "cumulative_variance_ratio = np.cumsum(pca.explained_variance_ratio_)\n",
    "min_components = np.argmax(cumulative_variance_ratio >= 0.85) + 1"
   ]
  },
  {
   "cell_type": "code",
   "execution_count": null,
   "metadata": {
    "id": "knrH-aJxiZGy"
   },
   "outputs": [],
   "source": [
    "pca_2d = PCA(n_components=2)\n",
    "data_2d = pca_2d.fit_transform(pca_data)"
   ]
  },
  {
   "cell_type": "code",
   "execution_count": null,
   "metadata": {
    "id": "5-FQQVoJif9I",
    "colab": {
     "base_uri": "https://localhost:8080/",
     "height": 472
    },
    "executionInfo": {
     "status": "ok",
     "timestamp": 1734961492153,
     "user_tz": -180,
     "elapsed": 661,
     "user": {
      "displayName": "Григорий Шатинский",
      "userId": "03953634718986252366"
     }
    },
    "outputId": "0a26732c-6091-493f-f93d-1a0338ec8105"
   },
   "outputs": [
    {
     "output_type": "display_data",
     "data": {
      "text/plain": [
       "<Figure size 640x480 with 1 Axes>"
      ],
      "image/png": "[encoded data removed]"
     },
     "metadata": {}
    }
   ],
   "source": [
    "plt.scatter(data_2d[:, 0], data_2d[:, 1])\n",
    "plt.xlabel('1-я главная компонента')\n",
    "plt.ylabel('2-я главная компонента')\n",
    "plt.title('Распределение данных по первым двум главным компонентам')\n",
    "plt.show()"
   ]
  },
  {
   "cell_type": "code",
   "execution_count": null,
   "metadata": {
    "id": "lVEGBTN0ikJe",
    "colab": {
     "base_uri": "https://localhost:8080/"
    },
    "executionInfo": {
     "status": "ok",
     "timestamp": 1734961494406,
     "user_tz": -180,
     "elapsed": 266,
     "user": {
      "displayName": "Григорий Шатинский",
      "userId": "03953634718986252366"
     }
    },
    "outputId": "7dbb78ae-683f-4294-b821-51b4b10cd4a8"
   },
   "outputs": [
    {
     "output_type": "stream",
     "name": "stdout",
     "text": [
      "Координата первого объекта относительно первой главной компоненты: 40.975\n",
      "Координата первого объекта относительно второй главной компоненты: -4.522\n",
      "Доля объясненной дисперсии для первых двух компонент: 0.716\n",
      "Минимальное количество компонент для объяснения дисперсии более 85%: 3\n"
     ]
    },
    {
     "output_type": "stream",
     "name": "stderr",
     "text": [
      "<ipython-input-19-97e0a1cb950c>:2: DeprecationWarning: Conversion of an array with ndim > 0 to a scalar is deprecated, and will error in future. Ensure you extract a single element from your array before performing this operation. (Deprecated NumPy 1.25.)\n",
      "  print(f\"Координата первого объекта относительно первой главной компоненты: {float(pca_data[0].round(3)[:1])}\")\n",
      "<ipython-input-19-97e0a1cb950c>:3: DeprecationWarning: Conversion of an array with ndim > 0 to a scalar is deprecated, and will error in future. Ensure you extract a single element from your array before performing this operation. (Deprecated NumPy 1.25.)\n",
      "  print(f\"Координата первого объекта относительно второй главной компоненты: {float(pca_data[0].round(3)[:2][1:])}\")\n"
     ]
    }
   ],
   "source": [
    "# Ответы\n",
    "print(f\"Координата первого объекта относительно первой главной компоненты: {float(pca_data[0].round(3)[:1])}\")\n",
    "print(f\"Координата первого объекта относительно второй главной компоненты: {float(pca_data[0].round(3)[:2][1:])}\")\n",
    "print(f\"Доля объясненной дисперсии для первых двух компонент: {round(explained_variance_ratio, 3)}\")\n",
    "print(f\"Минимальное количество компонент для объяснения дисперсии более 85%: {min_components}\")"
   ]
  },
  {
   "cell_type": "markdown",
   "metadata": {
    "id": "stB7bGtsnmD2"
   },
   "source": [
    "# Задание 2"
   ]
  },
  {
   "cell_type": "code",
   "execution_count": null,
   "metadata": {
    "id": "J1EKIF1tnlES"
   },
   "outputs": [],
   "source": [
    "import pandas as pd"
   ]
  },
  {
   "cell_type": "code",
   "source": [
    "w_matrix = pd.read_csv('/content/drive/MyDrive/DeepLearningCourse/X_loadings_408.csv', header=None, sep=';')\n",
    "s_matrix = pd.read_csv('/content/drive/MyDrive/DeepLearningCourse/X_reduced_408.csv', header=None, sep=';')"
   ],
   "metadata": {
    "id": "ysKivkj7zwMM"
   },
   "execution_count": null,
   "outputs": []
  },
  {
   "cell_type": "code",
   "source": [
    "im = s_matrix.dot(w_matrix.T)"
   ],
   "metadata": {
    "id": "0Z1tJyVw0A-P"
   },
   "execution_count": null,
   "outputs": []
  },
  {
   "cell_type": "code",
   "source": [
    "%matplotlib inline\n",
    "import matplotlib.pyplot as plt\n",
    "\n",
    "plt.imshow(im, interpolation='nearest', cmap=plt.cm.cool, vmin=-1, vmax=0)\n",
    "plt.show()"
   ],
   "metadata": {
    "colab": {
     "base_uri": "https://localhost:8080/",
     "height": 433
    },
    "id": "VGIMXSYo0Dbt",
    "executionInfo": {
     "status": "ok",
     "timestamp": 1734962426916,
     "user_tz": -180,
     "elapsed": 380,
     "user": {
      "displayName": "Григорий Шатинский",
      "userId": "03953634718986252366"
     }
    },
    "outputId": "99cc60ea-db28-44c2-cc45-b46ecb3275c6"
   },
   "execution_count": null,
   "outputs": [
    {
     "output_type": "display_data",
     "data": {
      "text/plain": [
       "<Figure size 640x480 with 1 Axes>"
      ],
      "image/png": "[encoded data removed]"
     },
     "metadata": {}
    }
   ]
  }
 ],
 "metadata": {
  "colab": {
   "provenance": [],
   "authorship_tag": "ABX9TyNJh2rwqar2n7ffZWcXKeqq"
  },
  "kernelspec": {
   "display_name": "Python 3",
   "name": "python3"
  },
  "language_info": {
   "name": "python"
  }
 },
 "nbformat": 4,
 "nbformat_minor": 0
}
